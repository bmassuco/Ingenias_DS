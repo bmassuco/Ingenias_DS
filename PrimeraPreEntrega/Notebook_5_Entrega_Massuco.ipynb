{
  "nbformat": 4,
  "nbformat_minor": 0,
  "metadata": {
    "kernelspec": {
      "display_name": "Python 3",
      "language": "python",
      "name": "python3"
    },
    "language_info": {
      "codemirror_mode": {
        "name": "ipython",
        "version": 3
      },
      "file_extension": ".py",
      "mimetype": "text/x-python",
      "name": "python",
      "nbconvert_exporter": "python",
      "pygments_lexer": "ipython3",
      "version": "3.7.3"
    },
    "colab": {
      "provenance": [],
      "include_colab_link": true
    }
  },
  "cells": [
    {
      "cell_type": "markdown",
      "metadata": {
        "id": "view-in-github",
        "colab_type": "text"
      },
      "source": [
        "<a href=\"https://colab.research.google.com/github/bmassuco/Ingenias_DS/blob/main/Notebook_5_Entrega_Massuco.ipynb\" target=\"_parent\"><img src=\"https://colab.research.google.com/assets/colab-badge.svg\" alt=\"Open In Colab\"/></a>"
      ]
    },
    {
      "cell_type": "markdown",
      "metadata": {
        "id": "Gp2WddtV9IwG"
      },
      "source": [
        "# Programa Ingenias+ Data Science"
      ]
    },
    {
      "cell_type": "markdown",
      "metadata": {
        "id": "H4M1yVbf9IwH"
      },
      "source": [
        "Como dijimos en clases anteriores, Python tiene implementadas muchas librerias para poder trabajar con datos. En la clase de hoy trabajaremos con una de ellas: `Numpy`."
      ]
    },
    {
      "cell_type": "markdown",
      "metadata": {
        "id": "GdTT8WeL9IwI"
      },
      "source": [
        "Antes de comenzar, vamos a hablar un poco de esta libreria o modulo.\n",
        "\n",
        "**Numpy** es una librería optimizada para realizar cálculos numéricos con vectores y matrices. A diferencia de otros lenguajes de programación, Python no posee en su estructura central la figura de matrices. Eso quiere decir que para poder trabajar con esta estructura de datos deberiamos trabajar con listas de listas. NumPy introduce el concepto de arrays o matrices."
      ]
    },
    {
      "cell_type": "markdown",
      "metadata": {
        "id": "qWkq3EHK9IwK"
      },
      "source": [
        "Al ser de código abierto, `numpy` posee una documentación muy amplia que es **SIEMPRE RECOMENDABLE** consultar."
      ]
    },
    {
      "cell_type": "markdown",
      "metadata": {
        "id": "nxe3KLUO9IwL"
      },
      "source": [
        "- [Documentacion NumPy](https://devdocs.io/numpy/)"
      ]
    },
    {
      "cell_type": "markdown",
      "metadata": {
        "id": "l1Ay3nSs9IwN"
      },
      "source": [
        "## Clase 4: Introduccion a NumPy"
      ]
    },
    {
      "cell_type": "markdown",
      "metadata": {
        "id": "X03mviQS9IyL"
      },
      "source": [
        "# Ejercicios\n",
        "\n",
        "1. Crear un arreglo de ceros de longitud 12\n",
        "2. Crear un arreglo de longitud 10 con ceros en todas sus posiciones y un 10 en la posición número 5\n",
        "3. Crear un arreglo que tenga los números del 10 al 49\n",
        "4. Crear una arreglo 2d de shape (3, 3) que tenga los números del 0 al 8\n",
        "5. Crear un arreglo de números aleatorios de longitud 100 y obtener su media y varianza\n",
        "6. Calcular la media de un arreglo usando np.sum\n",
        "7. Calcular la varianza de un arreglo usando np.sum y np.mean\n",
        "8. Crear un array de números aleatorios usando np.random.randn.\n"
      ]
    },
    {
      "cell_type": "code",
      "source": [
        "# Importamos la biblioteca Numpy\n",
        "import numpy as np"
      ],
      "metadata": {
        "id": "pi3q1M-qqu3n"
      },
      "execution_count": null,
      "outputs": []
    },
    {
      "cell_type": "code",
      "metadata": {
        "id": "G0NMKT609IyM",
        "colab": {
          "base_uri": "https://localhost:8080/"
        },
        "outputId": "bb23c011-3fcf-4b14-97b1-ab81f675ec3f"
      },
      "source": [
        "# Ejericio 1\n",
        "# Crear un arreglo de ceros de longitud 12\n",
        "ej1 = np.zeros(12)\n",
        "print(ej1)"
      ],
      "execution_count": null,
      "outputs": [
        {
          "output_type": "stream",
          "name": "stdout",
          "text": [
            "[0. 0. 0. 0. 0. 0. 0. 0. 0. 0. 0. 0.]\n"
          ]
        }
      ]
    },
    {
      "cell_type": "code",
      "source": [
        "# Ejercicio 2\n",
        "# Crea un arrelgo de longitud 10 con ceros en todas las posiciones y un 10 en la posicion numero 5\n",
        "ej2 = np.zeros(10)\n",
        "ej2[4] = 10\n",
        "print(ej2)\n"
      ],
      "metadata": {
        "colab": {
          "base_uri": "https://localhost:8080/"
        },
        "id": "mFmDPD_Nx-6N",
        "outputId": "76ea061b-751b-43f7-d3e8-a5a5cdb8f870"
      },
      "execution_count": null,
      "outputs": [
        {
          "output_type": "stream",
          "name": "stdout",
          "text": [
            "[ 0.  0.  0.  0. 10.  0.  0.  0.  0.  0.]\n"
          ]
        }
      ]
    },
    {
      "cell_type": "code",
      "source": [
        "# Ejercicio 3\n",
        "# Crear un arreglo que tenga los números del 10 al 49\n",
        "\n",
        "ej3 = np.arange(10,50)\n",
        "print(ej3)"
      ],
      "metadata": {
        "colab": {
          "base_uri": "https://localhost:8080/"
        },
        "id": "PfpO0cFfyT4D",
        "outputId": "3122d712-9574-4430-f2d5-1584cfe0bf24"
      },
      "execution_count": null,
      "outputs": [
        {
          "output_type": "stream",
          "name": "stdout",
          "text": [
            "[10 11 12 13 14 15 16 17 18 19 20 21 22 23 24 25 26 27 28 29 30 31 32 33\n",
            " 34 35 36 37 38 39 40 41 42 43 44 45 46 47 48 49]\n"
          ]
        }
      ]
    },
    {
      "cell_type": "code",
      "source": [
        "# Ejercicio 4\n",
        "# Crear una arreglo 2d de shape (3, 3) que tenga los números del 0 al 8\n",
        "ej4 = np.arange(9).reshape(3,3)\n",
        "print(ej4)"
      ],
      "metadata": {
        "colab": {
          "base_uri": "https://localhost:8080/"
        },
        "id": "T8mOlDa-y9sB",
        "outputId": "7e37d897-66e1-4701-d653-afc45a7b5038"
      },
      "execution_count": null,
      "outputs": [
        {
          "output_type": "stream",
          "name": "stdout",
          "text": [
            "[[0 1 2]\n",
            " [3 4 5]\n",
            " [6 7 8]]\n"
          ]
        }
      ]
    },
    {
      "cell_type": "code",
      "source": [
        "# Ejercicio 5\n",
        "# Crear un arreglo de números aleatorios de longitud 100 y obtener su media y varianza.\n",
        "\n",
        "ej5 = np.random.rand(100)\n",
        "print(ej5)\n",
        "print()\n",
        "print(\"Cálculo de la media:\")\n",
        "media = np.mean(ej5)\n",
        "print(media)\n",
        "print()\n",
        "print(\"Cálculo de la varianza:\")\n",
        "varianza = np.var(ej5)\n",
        "print(varianza)"
      ],
      "metadata": {
        "colab": {
          "base_uri": "https://localhost:8080/"
        },
        "id": "k9tf5iW94yxm",
        "outputId": "e10fdec2-1a89-4c02-a518-f21cba039cbd"
      },
      "execution_count": null,
      "outputs": [
        {
          "output_type": "stream",
          "name": "stdout",
          "text": [
            "[0.77859071 0.850895   0.94606798 0.68367117 0.86433087 0.30788616\n",
            " 0.5749044  0.10655277 0.99260511 0.42791511 0.41835135 0.88835695\n",
            " 0.88281843 0.36173223 0.98139063 0.35224374 0.77980588 0.53147266\n",
            " 0.7253205  0.10510546 0.88324782 0.15983756 0.34010731 0.68704855\n",
            " 0.2949433  0.48072216 0.11676421 0.90444753 0.75928338 0.35999915\n",
            " 0.83683909 0.85902846 0.20481549 0.45042155 0.06769281 0.43850152\n",
            " 0.69070593 0.38754641 0.74959812 0.19652905 0.7213624  0.96247502\n",
            " 0.36734189 0.46068267 0.21163677 0.82541908 0.3790102  0.95267195\n",
            " 0.58345067 0.646257   0.96164566 0.98659614 0.39647094 0.92329167\n",
            " 0.58889697 0.30966244 0.92293031 0.51842621 0.88702903 0.92282037\n",
            " 0.20665623 0.21537296 0.97865007 0.22753439 0.32869385 0.63608737\n",
            " 0.14615491 0.9970913  0.41910001 0.24607026 0.50206356 0.22968218\n",
            " 0.18508452 0.43052856 0.39542815 0.74103964 0.62422302 0.22605252\n",
            " 0.41740239 0.6547084  0.1892175  0.8350346  0.31573704 0.7835447\n",
            " 0.83608101 0.94935021 0.21266163 0.71217633 0.64721504 0.3923679\n",
            " 0.27446854 0.94507818 0.73457502 0.7634468  0.7405668  0.50193813\n",
            " 0.7745497  0.1910497  0.81538639 0.81533908]\n",
            "\n",
            "Cálculo de la media:\n",
            "0.5719358251954699\n",
            "\n",
            "Cálculo de la varianza:\n",
            "0.07684995096172459\n"
          ]
        }
      ]
    },
    {
      "cell_type": "code",
      "source": [
        "# Ejericio 6\n",
        "# Calcular la media de un arreglo usando np.sum\n",
        "\n",
        "ej6 = np.array([2,4,32,8,11.5,21.3])\n",
        "media_6 = np.sum(ej6)/len(ej6)\n",
        "print(f\"La media es de {media_6:.2f}\")"
      ],
      "metadata": {
        "colab": {
          "base_uri": "https://localhost:8080/"
        },
        "id": "iKxO41d95ko2",
        "outputId": "e2d3df2c-64a9-4979-f4be-da085948bd6c"
      },
      "execution_count": null,
      "outputs": [
        {
          "output_type": "stream",
          "name": "stdout",
          "text": [
            "La media es de 13.13\n"
          ]
        }
      ]
    },
    {
      "cell_type": "code",
      "source": [
        "# Ejercicio7\n",
        "# Calcular la varianza de un arreglo usando np.sum y np.mean\n",
        "\n",
        "ej7 = np.array([11,23.5,32,7.8,9.35,19,24.8])\n",
        "print(\"Cálculo de la media:\")\n",
        "media_7 = np.mean(ej7)\n",
        "print(media_7)\n",
        "print()\n",
        "print(\"Cálculo de la varianza:\")\n",
        "varianza = np.sum((ej7-media_7)**2/len(ej7)-1)\n",
        "print(varianza)\n",
        "print(np.var(ej7))"
      ],
      "metadata": {
        "colab": {
          "base_uri": "https://localhost:8080/"
        },
        "id": "KocfVGeE6HvO",
        "outputId": "d4b09ffe-9d42-4f2d-9f4a-20429b0e37d7"
      },
      "execution_count": null,
      "outputs": [
        {
          "output_type": "stream",
          "name": "stdout",
          "text": [
            "Cálculo de la media:\n",
            "18.207142857142856\n",
            "\n",
            "Cálculo de la varianza:\n",
            "64.57887755102041\n",
            "71.5788775510204\n"
          ]
        }
      ]
    },
    {
      "cell_type": "code",
      "source": [
        "# Ejercicio 8\n",
        "# Crear un array de números aleatorios usando np.random.randn\n",
        "print(\"Array de números aleatorios:\")\n",
        "array_random = np.random.randn(15)\n",
        "print(array_random)\n"
      ],
      "metadata": {
        "colab": {
          "base_uri": "https://localhost:8080/"
        },
        "id": "PcKPK3r03yX6",
        "outputId": "a644446b-20dd-4984-f278-0d5437466292"
      },
      "execution_count": null,
      "outputs": [
        {
          "output_type": "stream",
          "name": "stdout",
          "text": [
            "Array de números aleatorios:\n",
            "[ 0.3280528  -1.4236051  -0.43484666  0.0640904   0.86951333  1.80669584\n",
            " -0.1156216   0.92585602  1.35813916  0.44919784  1.38384003 -0.79087238\n",
            "  0.26452965  0.42413833  0.57499247]\n"
          ]
        }
      ]
    }
  ]
}
