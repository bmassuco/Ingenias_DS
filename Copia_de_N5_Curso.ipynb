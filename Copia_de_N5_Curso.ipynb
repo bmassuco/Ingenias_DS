{
  "nbformat": 4,
  "nbformat_minor": 0,
  "metadata": {
    "kernelspec": {
      "display_name": "Python 3",
      "language": "python",
      "name": "python3"
    },
    "language_info": {
      "codemirror_mode": {
        "name": "ipython",
        "version": 3
      },
      "file_extension": ".py",
      "mimetype": "text/x-python",
      "name": "python",
      "nbconvert_exporter": "python",
      "pygments_lexer": "ipython3",
      "version": "3.7.3"
    },
    "colab": {
      "provenance": [],
      "include_colab_link": true
    }
  },
  "cells": [
    {
      "cell_type": "markdown",
      "metadata": {
        "id": "view-in-github",
        "colab_type": "text"
      },
      "source": [
        "<a href=\"https://colab.research.google.com/github/bmassuco/Ingenias_DS/blob/main/Copia_de_N5_Curso.ipynb\" target=\"_parent\"><img src=\"https://colab.research.google.com/assets/colab-badge.svg\" alt=\"Open In Colab\"/></a>"
      ]
    },
    {
      "cell_type": "markdown",
      "metadata": {
        "id": "Gp2WddtV9IwG"
      },
      "source": [
        "# Programa Ingenias+ Data Science"
      ]
    },
    {
      "cell_type": "markdown",
      "metadata": {
        "id": "H4M1yVbf9IwH"
      },
      "source": [
        "Como dijimos en clases anteriores, Python tiene implementadas muchas librerias para poder trabajar con datos. En la clase de hoy trabajaremos con una de ellas: `Numpy`."
      ]
    },
    {
      "cell_type": "markdown",
      "metadata": {
        "id": "GdTT8WeL9IwI"
      },
      "source": [
        "Antes de comenzar, vamos a hablar un poco de esta libreria o modulo.\n",
        "\n",
        "**Numpy** es una librería optimizada para realizar cálculos numéricos con vectores y matrices. A diferencia de otros lenguajes de programación, Python no posee en su estructura central la figura de matrices. Eso quiere decir que para poder trabajar con esta estructura de datos deberiamos trabajar con listas de listas. NumPy introduce el concepto de arrays o matrices."
      ]
    },
    {
      "cell_type": "markdown",
      "metadata": {
        "id": "qWkq3EHK9IwK"
      },
      "source": [
        "Al ser de código abierto, `numpy` posee una documentación muy amplia que es **SIEMPRE RECOMENDABLE** consultar."
      ]
    },
    {
      "cell_type": "markdown",
      "metadata": {
        "id": "nxe3KLUO9IwL"
      },
      "source": [
        "- [Documentacion NumPy](https://devdocs.io/numpy/)"
      ]
    },
    {
      "cell_type": "markdown",
      "metadata": {
        "id": "l1Ay3nSs9IwN"
      },
      "source": [
        "## Clase 4: Introduccion a NumPy"
      ]
    },
    {
      "cell_type": "markdown",
      "metadata": {
        "id": "X03mviQS9IyL"
      },
      "source": [
        "# Ejercicios\n",
        "\n",
        "1. Crear un arreglo de ceros de longitud 12\n",
        "2. Crear un arreglo de longitud 10 con ceros en todas sus posiciones y un 10 en la posición número 5\n",
        "3. Crear un arreglo que tenga los números del 10 al 49\n",
        "4. Crear una arreglo 2d de shape (3, 3) que tenga los números del 0 al 8\n",
        "5. Crear un arreglo de números aleatorios de longitud 100 y obtener su media y varianza\n",
        "6. Calcular la media de un arreglo usando np.sum\n",
        "7. Calcular la varianza de un arreglo usando np.sum y np.mean\n",
        "8. Crear un array de números aleatorios usando np.random.randn.\n"
      ]
    },
    {
      "cell_type": "code",
      "source": [
        "# Importamos la biblioteca Numpy\n",
        "import numpy as np"
      ],
      "metadata": {
        "id": "pi3q1M-qqu3n"
      },
      "execution_count": null,
      "outputs": []
    },
    {
      "cell_type": "code",
      "metadata": {
        "id": "G0NMKT609IyM",
        "colab": {
          "base_uri": "https://localhost:8080/"
        },
        "outputId": "67e448c6-449a-4f3f-db9a-148c21e01b0e"
      },
      "source": [
        "# Ejericio 1\n",
        "# Crear un arreglo de ceros de longitud 12\n",
        "ej1 = np.zeros(12)\n",
        "print(ej1)"
      ],
      "execution_count": null,
      "outputs": [
        {
          "output_type": "stream",
          "name": "stdout",
          "text": [
            "[0. 0. 0. 0. 0. 0. 0. 0. 0. 0. 0. 0.]\n"
          ]
        }
      ]
    },
    {
      "cell_type": "code",
      "source": [
        "# Ejercicio 2\n",
        "# Crea un arrelgo de longitud 10 con ceros en todas las posiciones y un 10 en la posicion numero 5\n",
        "ej2 = np.zeros(10)\n",
        "ej2[4] = 10\n",
        "print(ej2)\n"
      ],
      "metadata": {
        "colab": {
          "base_uri": "https://localhost:8080/"
        },
        "id": "mFmDPD_Nx-6N",
        "outputId": "5f3e6878-089e-4f4d-cefe-ca92df552066"
      },
      "execution_count": null,
      "outputs": [
        {
          "output_type": "stream",
          "name": "stdout",
          "text": [
            "[ 0.  0.  0.  0. 10.  0.  0.  0.  0.  0.]\n"
          ]
        }
      ]
    },
    {
      "cell_type": "code",
      "source": [
        "# Ejercicio 3\n",
        "# Crear un arreglo que tenga los números del 10 al 49\n",
        "\n",
        "arreglo3 = np.arange(10,50)\n",
        "print(arreglo3)"
      ],
      "metadata": {
        "colab": {
          "base_uri": "https://localhost:8080/"
        },
        "id": "PfpO0cFfyT4D",
        "outputId": "cac0b810-98f4-4a31-ba62-a4426af234e0"
      },
      "execution_count": null,
      "outputs": [
        {
          "output_type": "stream",
          "name": "stdout",
          "text": [
            "[10 11 12 13 14 15 16 17 18 19 20 21 22 23 24 25 26 27 28 29 30 31 32 33\n",
            " 34 35 36 37 38 39 40 41 42 43 44 45 46 47 48 49]\n"
          ]
        }
      ]
    },
    {
      "cell_type": "code",
      "source": [
        "# Ejercicio 3\n",
        "# Crear un arreglo que tenga los números del 10 al 49\n",
        "\n",
        "ej3 = np.arange(10,49)\n",
        "print(ej3)"
      ],
      "metadata": {
        "colab": {
          "base_uri": "https://localhost:8080/"
        },
        "id": "n7_9J-W7t8xA",
        "outputId": "a6f973f2-39bc-4c56-dfdf-bd5d1ee2a33c"
      },
      "execution_count": null,
      "outputs": [
        {
          "output_type": "stream",
          "name": "stdout",
          "text": [
            "[10 11 12 13 14 15 16 17 18 19 20 21 22 23 24 25 26 27 28 29 30 31 32 33\n",
            " 34 35 36 37 38 39 40 41 42 43 44 45 46 47 48]\n"
          ]
        }
      ]
    },
    {
      "cell_type": "code",
      "source": [
        "# Ejercicio 4\n",
        "# Crear una arreglo 2d de shape (3, 3) que tenga los números del 0 al 8\n",
        "ej4 = np.arange(9).reshape(3,3)\n",
        "print(ej4)"
      ],
      "metadata": {
        "colab": {
          "base_uri": "https://localhost:8080/"
        },
        "id": "T8mOlDa-y9sB",
        "outputId": "9e58f193-c206-4936-eccc-a7f38617d4e0"
      },
      "execution_count": null,
      "outputs": [
        {
          "output_type": "stream",
          "name": "stdout",
          "text": [
            "[[0 1 2]\n",
            " [3 4 5]\n",
            " [6 7 8]]\n"
          ]
        }
      ]
    },
    {
      "cell_type": "code",
      "source": [
        "# Ejercicio 5\n",
        "# Crear un arreglo de números aleatorios de longitud 100 y obtener su media y varianza.\n",
        "print(\"creacion de longuitud aleatorio de 100 \")\n",
        "arreglo5 = np.random.randn(100)\n",
        "print(arreglo5)\n",
        "print ()\n",
        "print(\"creacion de media \")\n",
        "media = np.mean(arreglo5)\n",
        "print(media)\n",
        "print()\n",
        "print(\"creacion de varianza \")\n",
        "varianza = np.var(arreglo5)\n",
        "print(varianza)"
      ],
      "metadata": {
        "colab": {
          "base_uri": "https://localhost:8080/"
        },
        "id": "lEOknHst2CDk",
        "outputId": "770e353d-97e1-4df2-a5da-898c1b5a6ba6"
      },
      "execution_count": null,
      "outputs": [
        {
          "output_type": "stream",
          "name": "stdout",
          "text": [
            "creacion de longuitud aleatorio de 100 \n",
            "[-2.50085116  0.13026253  0.01022451 -0.06586791 -1.9935581  -0.71871526\n",
            " -0.66178489  0.0892251   1.19081155  0.68012029 -1.82997569  0.09922659\n",
            "  0.37172774 -0.32774945  0.33744771 -1.93801747  1.53584419 -0.43836709\n",
            "  1.28045001  1.75183767  0.75111384 -0.49764369 -2.1878897  -0.79202516\n",
            "  0.79756519 -0.0471592  -0.67348493  2.14265382 -0.54031351 -0.94957368\n",
            " -0.27768705  0.88523042 -1.58695369  1.6374218  -1.50919488  0.35323405\n",
            "  0.26075651  2.29601338  1.16729327  0.86747288  0.86072341 -0.95838397\n",
            " -0.67583085 -1.41388676  0.97732215 -1.08983972  1.77134885 -0.8429015\n",
            " -0.40144833 -0.15310144 -0.01417091 -0.12492587 -0.20209453 -0.70837066\n",
            "  1.39491684  1.75198273 -0.91119517  0.57909259 -0.63112795  0.33450516\n",
            " -0.42003067 -1.16331093 -0.58284415 -0.10681039  0.33837199 -0.62621583\n",
            "  1.75417204 -1.20249441 -1.68976696 -0.14339471  2.10509947 -0.05681839\n",
            " -2.48327677 -1.05742044  0.66874986  0.81904409 -1.70756236 -1.11120653\n",
            " -0.53830306 -0.46690411  0.10386999 -1.83351768  0.42958857  0.73270373\n",
            " -0.68238595  0.07543204 -1.19922941  0.07551729 -1.53220477 -0.47518453\n",
            "  1.21498547  0.64091387  0.02632934  1.73419933 -1.20915331 -1.31615601\n",
            "  0.38259574 -1.31946432  0.05174215  0.02444861]\n",
            "\n",
            "creacion de media \n",
            "-0.13104157471525896\n",
            "\n",
            "creacion de varianza \n",
            "1.185146924691777\n"
          ]
        }
      ]
    },
    {
      "cell_type": "code",
      "source": [
        "# Ejericio 6\n",
        "# Calcular la media de un arreglo usando np.sum\n",
        "\n",
        "arry = np.array([1,2,3,4,10])\n",
        "media = np.sum(arry)/len(arry) # Lo que hace len es decirme el numero de elementos que tiene el arreglo}\n",
        "#print(len(arry))\n",
        "\n",
        "print(media)\n"
      ],
      "metadata": {
        "colab": {
          "base_uri": "https://localhost:8080/"
        },
        "id": "WwM2Tckz2gnl",
        "outputId": "96ce86bd-49f2-4719-a50e-06b782447761"
      },
      "execution_count": null,
      "outputs": [
        {
          "output_type": "stream",
          "name": "stdout",
          "text": [
            "4.0\n"
          ]
        }
      ]
    },
    {
      "cell_type": "code",
      "source": [
        "# Ejercicio7\n",
        "# Calcular la varianza de un arreglo usando np.sum y np.mean\n",
        "print(\"creacion de vianza de un arreglo usando np.sum y n.mean\")\n",
        "arreglo7 = np.array([1,2,3,4,10])\n",
        "varianza = np.sum((arreglo7-np.mean(arreglo7))**2)/len(arreglo7)\n",
        "print(varianza)\n",
        "\n",
        "# La varianza se calcula  como la sumatoria de la diferencia entre el valor original y su media , todo al cuadrado.\n",
        "# A todo eso lo debemos dividir por la cantidad de elementos menos 1\n",
        "\n",
        "arreglo7 = np.array([1,2,3,4,10])\n",
        "varianza = np.sum((arreglo7-np.mean(arreglo7))**2)/(len(arreglo7)-1)\n",
        "\n",
        "print(varianza)"
      ],
      "metadata": {
        "colab": {
          "base_uri": "https://localhost:8080/"
        },
        "id": "OkvVVYCR3L5S",
        "outputId": "3647c20d-682a-4b4d-c70f-07dbfb8a8144"
      },
      "execution_count": null,
      "outputs": [
        {
          "output_type": "stream",
          "name": "stdout",
          "text": [
            "creacion de vianza de un arreglo usando np.sum y n.mean\n",
            "10.0\n",
            "12.5\n"
          ]
        }
      ]
    },
    {
      "cell_type": "code",
      "source": [
        "# Ejercicio 8\n",
        "# Crear un array de números aleatorios usando np.random.randn\n",
        "print(\"creacion de un array de nuemros aaleatorios \")\n",
        "arry_aleatorio = np.random.randn(10)\n",
        "print(arry_aleatorio)\n"
      ],
      "metadata": {
        "colab": {
          "base_uri": "https://localhost:8080/"
        },
        "id": "PcKPK3r03yX6",
        "outputId": "c77298c0-362d-4e1a-edff-8aa1fabdfa7a"
      },
      "execution_count": null,
      "outputs": [
        {
          "output_type": "stream",
          "name": "stdout",
          "text": [
            "creacion de un array de nuemros aaleatorios \n",
            "[-0.84490707 -0.61967252  1.2642154  -0.37714971  0.51218556 -1.54232364\n",
            " -0.30352323 -0.1265164   0.58452466  0.64400962]\n"
          ]
        }
      ]
    }
  ]
}